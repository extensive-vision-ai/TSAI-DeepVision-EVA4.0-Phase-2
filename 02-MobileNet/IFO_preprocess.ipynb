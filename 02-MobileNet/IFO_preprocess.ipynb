{
 "cells": [
  {
   "cell_type": "markdown",
   "metadata": {},
   "source": [
    "# Identified Flying Object - Dataset"
   ]
  },
  {
   "cell_type": "code",
   "execution_count": 25,
   "metadata": {},
   "outputs": [],
   "source": [
    "from PIL import Image\n",
    "from glob import glob\n",
    "from pathlib import Path\n",
    "import os"
   ]
  },
  {
   "cell_type": "code",
   "execution_count": 26,
   "metadata": {},
   "outputs": [],
   "source": [
    "dataset_dir = Path('IFODataset')"
   ]
  },
  {
   "cell_type": "code",
   "execution_count": 27,
   "metadata": {},
   "outputs": [
    {
     "data": {
      "text/plain": [
       "[PosixPath('IFODataset/Flying_Birds'),\n",
       " PosixPath('IFODataset/Small_QuadCopters'),\n",
       " PosixPath('IFODataset/Winged_Drones'),\n",
       " PosixPath('IFODataset/Large_QuadCopters')]"
      ]
     },
     "execution_count": 27,
     "metadata": {},
     "output_type": "execute_result"
    }
   ],
   "source": [
    "classes = list(dataset_dir.iterdir())\n",
    "classes"
   ]
  },
  {
   "cell_type": "code",
   "execution_count": 28,
   "metadata": {},
   "outputs": [],
   "source": [
    "output_dir = Path('IFOCleaned')"
   ]
  },
  {
   "cell_type": "code",
   "execution_count": 29,
   "metadata": {},
   "outputs": [
    {
     "name": "stderr",
     "output_type": "stream",
     "text": [
      "/home/shadowleaf/anaconda3/envs/tensorclan/lib/python3.8/site-packages/PIL/Image.py:2929: UserWarning: image file could not be identified because WEBP support not installed\n",
      "  warnings.warn(message)\n"
     ]
    },
    {
     "name": "stdout",
     "output_type": "stream",
     "text": [
      "=> finished Flying_Birds, processed 8283 files\n",
      "=> finished Small_QuadCopters, processed 3622 files\n",
      "=> finished Winged_Drones, processed 5774 files\n"
     ]
    },
    {
     "name": "stderr",
     "output_type": "stream",
     "text": [
      "/home/shadowleaf/anaconda3/envs/tensorclan/lib/python3.8/site-packages/PIL/TiffImagePlugin.py:785: UserWarning: Corrupt EXIF data.  Expecting to read 4 bytes but only got 0. \n",
      "  warnings.warn(str(msg))\n"
     ]
    },
    {
     "name": "stdout",
     "output_type": "stream",
     "text": [
      "=> finished Large_QuadCopters, processed 5037 files\n"
     ]
    }
   ],
   "source": [
    "names = {'Flying_Birds':'bird', 'Small_QuadCopters': 'small_quad', 'Winged_Drones':'winged_drone', 'Large_QuadCopters':'large_quad'}\n",
    "for ifo in classes:\n",
    "    out_folder = output_dir / ifo.name\n",
    "    out_folder.mkdir(parents=True, exist_ok=True)\n",
    "    \n",
    "    for idx, file in enumerate(ifo.glob('*')):\n",
    "        try:\n",
    "            img = Image.open(file)\n",
    "            # if dim is greater than 500, then reduce it\n",
    "            if img.width > 500 or img.height > 500:\n",
    "                img.thumbnail((500, 500))\n",
    "            # if there was a error, the data should be zero\n",
    "            if len(img.getdata()) > 0:\n",
    "                filename = out_folder / f'{names[ifo.name]}_{idx:04}.jpg'\n",
    "                img.save(filename)\n",
    "                # check if write was successful\n",
    "                if Path(filename).stat().st_size == 0:\n",
    "                    os.remove(filename)\n",
    "        except:\n",
    "            pass\n",
    "    print(f\"=> finished {ifo.name}, processed {idx} files\")"
   ]
  },
  {
   "cell_type": "markdown",
   "metadata": {},
   "source": [
    "Cleanup empty files in case they were still created"
   ]
  },
  {
   "cell_type": "code",
   "execution_count": 30,
   "metadata": {},
   "outputs": [],
   "source": [
    "for file in output_dir.glob('*/*'):\n",
    "    if file.stat().st_size == 0:\n",
    "        os.remove(file)"
   ]
  },
  {
   "cell_type": "code",
   "execution_count": null,
   "metadata": {},
   "outputs": [],
   "source": []
  }
 ],
 "metadata": {
  "kernelspec": {
   "display_name": "PyCharm (TheTensorClan)",
   "language": "python",
   "name": "pycharm-1b12d3ba"
  },
  "language_info": {
   "codemirror_mode": {
    "name": "ipython",
    "version": 3
   },
   "file_extension": ".py",
   "mimetype": "text/x-python",
   "name": "python",
   "nbconvert_exporter": "python",
   "pygments_lexer": "ipython3",
   "version": "3.8.5"
  }
 },
 "nbformat": 4,
 "nbformat_minor": 4
}
