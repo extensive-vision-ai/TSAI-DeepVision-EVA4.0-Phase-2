{
  "nbformat": 4,
  "nbformat_minor": 0,
  "metadata": {
    "kernelspec": {
      "display_name": "Python 3",
      "language": "python",
      "name": "python3"
    },
    "language_info": {
      "codemirror_mode": {
        "name": "ipython",
        "version": 3
      },
      "file_extension": ".py",
      "mimetype": "text/x-python",
      "name": "python",
      "nbconvert_exporter": "python",
      "pygments_lexer": "ipython3",
      "version": "3.6.1"
    },
    "colab": {
      "name": "numpy_lstm.ipynb",
      "provenance": [],
      "include_colab_link": true
    }
  },
  "cells": [
    {
      "cell_type": "markdown",
      "metadata": {
        "id": "view-in-github",
        "colab_type": "text"
      },
      "source": [
        "<a href=\"https://colab.research.google.com/github/satyajitghana/TSAI-DeepVision-EVA4.0-Phase-2/blob/master/10-SequenceModels/numpy_lstm.ipynb\" target=\"_parent\"><img src=\"https://colab.research.google.com/assets/colab-badge.svg\" alt=\"Open In Colab\"/></a>"
      ]
    },
    {
      "cell_type": "markdown",
      "metadata": {
        "collapsed": true,
        "id": "UT8re4RWJlXO"
      },
      "source": [
        "### Imports"
      ]
    },
    {
      "cell_type": "code",
      "metadata": {
        "id": "0Q7W5dblJlXP"
      },
      "source": [
        "import numpy as np\n",
        "%matplotlib inline\n",
        "import numpy as np\n",
        "import matplotlib.pyplot as plt\n",
        "from IPython import display\n",
        "plt.style.use('seaborn-white')"
      ],
      "execution_count": null,
      "outputs": []
    },
    {
      "cell_type": "markdown",
      "metadata": {
        "id": "3RCCrcYyJlXT"
      },
      "source": [
        "### Read and process data"
      ]
    },
    {
      "cell_type": "code",
      "metadata": {
        "id": "xPGcGdHxJqen",
        "outputId": "aa08b3ba-6742-4b1a-ba21-d319cb3dda04",
        "colab": {
          "base_uri": "https://localhost:8080/",
          "height": 108
        }
      },
      "source": [
        "import gdown\n",
        "url = 'https://drive.google.com/uc?id=1UWWIi-sz9g0x3LFvkIZjvK1r2ZaCqgGS'\n",
        "output = 'input.txt'\n",
        "gdown.download(url, output, quiet=False)"
      ],
      "execution_count": null,
      "outputs": [
        {
          "output_type": "stream",
          "text": [
            "Downloading...\n",
            "From: https://drive.google.com/uc?id=1UWWIi-sz9g0x3LFvkIZjvK1r2ZaCqgGS\n",
            "To: /content/input.txt\n",
            "100%|██████████| 10.3k/10.3k [00:00<00:00, 2.70MB/s]\n"
          ],
          "name": "stderr"
        },
        {
          "output_type": "execute_result",
          "data": {
            "application/vnd.google.colaboratory.intrinsic+json": {
              "type": "string"
            },
            "text/plain": [
              "'input.txt'"
            ]
          },
          "metadata": {
            "tags": []
          },
          "execution_count": 31
        }
      ]
    },
    {
      "cell_type": "code",
      "metadata": {
        "id": "Nj2P3SUfJlXT"
      },
      "source": [
        "data = open('input.txt', 'r').read()"
      ],
      "execution_count": null,
      "outputs": []
    },
    {
      "cell_type": "markdown",
      "metadata": {
        "id": "V8JvM6hPJlXW"
      },
      "source": [
        "Process data and calculate indexes"
      ]
    },
    {
      "cell_type": "code",
      "metadata": {
        "id": "jJDKaZfmJlXX",
        "outputId": "c0955fe3-4567-448f-a511-d7ac11e7499a",
        "colab": {
          "base_uri": "https://localhost:8080/",
          "height": 35
        }
      },
      "source": [
        "chars = list(set(data))\n",
        "data_size, X_size = len(data), len(chars)\n",
        "print(\"data has %d characters, %d unique\" % (data_size, X_size))\n",
        "char_to_idx = {ch:i for i,ch in enumerate(chars)}\n",
        "idx_to_char = {i:ch for i,ch in enumerate(chars)}"
      ],
      "execution_count": null,
      "outputs": [
        {
          "output_type": "stream",
          "text": [
            "data has 10223 characters, 75 unique\n"
          ],
          "name": "stdout"
        }
      ]
    },
    {
      "cell_type": "markdown",
      "metadata": {
        "id": "TXc2ogv2JlXa"
      },
      "source": [
        "### Constants and Hyperparameters"
      ]
    },
    {
      "cell_type": "code",
      "metadata": {
        "id": "1uoiVb4dJlXb"
      },
      "source": [
        "H_size = 100 # Size of the hidden layer\n",
        "T_steps = 40 # Number of time steps (length of the sequence) used for training\n",
        "learning_rate = 1e-1 # Learning rate\n",
        "weight_sd = 0.1 # Standard deviation of weights for initialization\n",
        "z_size = H_size + X_size # Size of concatenate(H, X) vector"
      ],
      "execution_count": null,
      "outputs": []
    },
    {
      "cell_type": "markdown",
      "metadata": {
        "id": "N7z95iNpJlXe"
      },
      "source": [
        "### Activation Functions and Derivatives\n",
        "\n",
        "#### Sigmoid\n",
        "\n",
        "\\begin{align}\n",
        "\\sigma(x) &= \\frac{1}{1 + e^{-x}}\\\\\n",
        "\\frac{d\\sigma(x)}{dx} &= \\sigma(x) \\cdot (1 - \\sigma(x))\n",
        "\\end{align}\n",
        "\n",
        "#### Tanh\n",
        "\n",
        "\\begin{align}\n",
        "\\frac{d\\text{tanh}(x)}{dx} &= 1 - \\text{tanh}^2(x)\n",
        "\\end{align}"
      ]
    },
    {
      "cell_type": "code",
      "metadata": {
        "id": "wDN9M7coJlXf"
      },
      "source": [
        "def sigmoid(x):\n",
        "    return 1 / (1 + np.exp(-x))\n",
        "\n",
        "\n",
        "def dsigmoid(y):\n",
        "    return y * (1 - y)\n",
        "\n",
        "\n",
        "def tanh(x):\n",
        "    return np.tanh(x)\n",
        "\n",
        "\n",
        "def dtanh(y):\n",
        "    return 1 - y * y"
      ],
      "execution_count": null,
      "outputs": []
    },
    {
      "cell_type": "markdown",
      "metadata": {
        "id": "Btp41C1fJlXh"
      },
      "source": [
        "### Parameters"
      ]
    },
    {
      "cell_type": "code",
      "metadata": {
        "id": "igP4zvkkJlXi"
      },
      "source": [
        "class Param:\n",
        "    def __init__(self, name, value):\n",
        "        self.name = name\n",
        "        self.v = value #parameter value\n",
        "        self.d = np.zeros_like(value) #derivative\n",
        "        self.m = np.zeros_like(value) #momentum for AdaGrad"
      ],
      "execution_count": null,
      "outputs": []
    },
    {
      "cell_type": "markdown",
      "metadata": {
        "id": "zsAi5ASdJlXl"
      },
      "source": [
        "We use random weights with normal distribution (`0`, `weight_sd`) for $tanh$ activation function and (`0.5`, `weight_sd`) for $sigmoid$ activation function.\n",
        "\n",
        "Biases are initialized to zeros."
      ]
    },
    {
      "cell_type": "code",
      "metadata": {
        "id": "XbGBVXJhJlXm"
      },
      "source": [
        "class Parameters:\n",
        "    def __init__(self):\n",
        "        self.W_f = Param('W_f', \n",
        "                         np.random.randn(H_size, z_size) * weight_sd + 0.5)\n",
        "        self.b_f = Param('b_f',\n",
        "                         np.zeros((H_size, 1)))\n",
        "\n",
        "        self.W_i = Param('W_i',\n",
        "                         np.random.randn(H_size, z_size) * weight_sd + 0.5)\n",
        "        self.b_i = Param('b_i',\n",
        "                         np.zeros((H_size, 1)))\n",
        "\n",
        "        self.W_C = Param('W_C',\n",
        "                         np.random.randn(H_size, z_size) * weight_sd)\n",
        "        self.b_C = Param('b_C',\n",
        "                         np.zeros((H_size, 1)))\n",
        "\n",
        "        self.W_o = Param('W_o',\n",
        "                         np.random.randn(H_size, z_size) * weight_sd + 0.5)\n",
        "        self.b_o = Param('b_o',\n",
        "                         np.zeros((H_size, 1)))\n",
        "\n",
        "        #For final layer to predict the next character\n",
        "        self.W_v = Param('W_v',\n",
        "                         np.random.randn(X_size, H_size) * weight_sd)\n",
        "        self.b_v = Param('b_v',\n",
        "                         np.zeros((X_size, 1)))\n",
        "        \n",
        "    def all(self):\n",
        "        return [self.W_f, self.W_i, self.W_C, self.W_o, self.W_v,\n",
        "               self.b_f, self.b_i, self.b_C, self.b_o, self.b_v]\n",
        "        \n",
        "parameters = Parameters()"
      ],
      "execution_count": null,
      "outputs": []
    },
    {
      "cell_type": "markdown",
      "metadata": {
        "id": "W7YhzmN9JlXo"
      },
      "source": [
        "### Forward pass\n",
        "\n",
        "![LSTM](http://blog.varunajayasiri.com/ml/lstm.svg)\n",
        "\n",
        "*Operation $z$ is the concatenation of $x$ and $h_{t-1}$*\n",
        "\n",
        "#### Concatenation of $h_{t-1}$ and $x_t$\n",
        "\\begin{align}\n",
        "z & = [h_{t-1}, x_t] \\\\\n",
        "\\end{align}\n",
        "\n",
        "#### LSTM functions\n",
        "\\begin{align}\n",
        "f_t & = \\sigma(W_f \\cdot z + b_f) \\\\\n",
        "i_t & = \\sigma(W_i \\cdot z + b_i) \\\\\n",
        "\\bar{C}_t & = tanh(W_C \\cdot z + b_C) \\\\\n",
        "C_t & = f_t * C_{t-1} + i_t * \\bar{C}_t \\\\\n",
        "o_t & = \\sigma(W_o \\cdot z + b_t) \\\\\n",
        "h_t &= o_t * tanh(C_t) \\\\\n",
        "\\end{align}\n",
        "\n",
        "#### Logits\n",
        "\\begin{align}\n",
        "v_t &= W_v \\cdot h_t + b_v \\\\\n",
        "\\end{align}\n",
        "\n",
        "#### Softmax\n",
        "\\begin{align}\n",
        "\\hat{y_t} &= \\text{softmax}(v_t)\n",
        "\\end{align}\n",
        "\n",
        "$\\hat{y_t}$ is `y` in code and $y_t$ is `targets`.\n"
      ]
    },
    {
      "cell_type": "code",
      "metadata": {
        "id": "stJzfw9xJlXp"
      },
      "source": [
        "def forward(x, h_prev, C_prev, p = parameters):\n",
        "    assert x.shape == (X_size, 1)\n",
        "    assert h_prev.shape == (H_size, 1)\n",
        "    assert C_prev.shape == (H_size, 1)\n",
        "    \n",
        "    z = np.row_stack((h_prev, x))\n",
        "    f = sigmoid(np.dot(p.W_f.v, z) + p.b_f.v)\n",
        "    i = sigmoid(np.dot(p.W_i.v, z) + p.b_i.v)\n",
        "    C_bar = tanh(np.dot(p.W_C.v, z) + p.b_C.v)\n",
        "\n",
        "    C = f * C_prev + i * C_bar\n",
        "    o = sigmoid(np.dot(p.W_o.v, z) + p.b_o.v)\n",
        "    h = o * tanh(C)\n",
        "\n",
        "    v = np.dot(p.W_v.v, h) + p.b_v.v\n",
        "    y = np.exp(v) / np.sum(np.exp(v)) #softmax\n",
        "\n",
        "    return z, f, i, C_bar, C, o, h, v, y"
      ],
      "execution_count": null,
      "outputs": []
    },
    {
      "cell_type": "markdown",
      "metadata": {
        "id": "yw7A7s-mJlXs"
      },
      "source": [
        "### Backward pass\n",
        "\n",
        "#### Loss\n",
        "\n",
        "\\begin{align}\n",
        "L_k &= -\\sum_{t=k}^T\\sum_j y_{t,j} log \\hat{y_{t,j}} \\\\\n",
        "L &= L_1 \\\\\n",
        "\\end{align}\n",
        "\n",
        "#### Gradients\n",
        "\n",
        "\\begin{align}\n",
        "dv_t &= \\hat{y_t} - y_t \\\\\n",
        "dh_t &= dh'_t + W_y^T \\cdot dv_t \\\\\n",
        "do_t &= dh_t * \\text{tanh}(C_t) \\\\\n",
        "dC_t &= dC'_t + dh_t * o_t * (1 - \\text{tanh}^2(C_t))\\\\\n",
        "d\\bar{C}_t &= dC_t * i_t \\\\\n",
        "di_t &= dC_t * \\bar{C}_t \\\\\n",
        "df_t &= dC_t * C_{t-1} \\\\\n",
        "\\\\\n",
        "df'_t &= f_t * (1 - f_t) * df_t \\\\\n",
        "di'_t &= i_t * (1 - i_t) * di_t \\\\\n",
        "d\\bar{C}'_{t-1} &= (1 - \\bar{C}_t^2) * d\\bar{C}_t \\\\\n",
        "do'_t &= o_t * (1 - o_t) * do_t \\\\\n",
        "dz_t &= W_f^T \\cdot df'_t \\\\\n",
        "     &+ W_i^T \\cdot di_t \\\\\n",
        "     &+ W_C^T \\cdot d\\bar{C}_t \\\\\n",
        "     &+ W_o^T \\cdot do_t \\\\\n",
        "\\\\\n",
        "[dh'_{t-1}, dx_t] &= dz_t \\\\\n",
        "dC'_t &= f_t * dC_t\n",
        "\\end{align}\n",
        "\n",
        "* $dC'_t = \\frac{\\partial L_{t+1}}{\\partial C_t}$ and $dh'_t = \\frac{\\partial L_{t+1}}{\\partial h_t}$\n",
        "* $dC_t = \\frac{\\partial L}{\\partial C_t} = \\frac{\\partial L_t}{\\partial C_t}$ and $dh_t = \\frac{\\partial L}{\\partial h_t} = \\frac{\\partial L_{t}}{\\partial h_t}$\n",
        "* All other derivatives are of $L$\n",
        "* `target` is target character index $y_t$\n",
        "* `dh_next` is $dh'_{t}$ (size H x 1)\n",
        "* `dC_next` is $dC'_{t}$ (size H x 1)\n",
        "* `C_prev` is $C_{t-1}$ (size H x 1)\n",
        "* $df'_t$, $di'_t$, $d\\bar{C}'_t$, and $do'_t$ are *also* assigned to `df`, `di`, `dC_bar`, and `do` in the **code**.\n",
        "* *Returns* $dh_t$ and $dC_t$\n",
        "\n",
        "#### Model parameter gradients\n",
        "\n",
        "\\begin{align}\n",
        "dW_v &= dv_t \\cdot h_t^T \\\\\n",
        "db_v &= dv_t \\\\\n",
        "\\\\\n",
        "dW_f &= df'_t \\cdot z^T \\\\\n",
        "db_f &= df'_t \\\\\n",
        "\\\\\n",
        "dW_i &= di'_t \\cdot z^T \\\\\n",
        "db_i &= di'_t \\\\\n",
        "\\\\\n",
        "dW_C &= d\\bar{C}'_t \\cdot z^T \\\\\n",
        "db_C &= d\\bar{C}'_t \\\\\n",
        "\\\\\n",
        "dW_o &= do'_t \\cdot z^T \\\\\n",
        "db_o &= do'_t \\\\\n",
        "\\\\\n",
        "\\end{align}"
      ]
    },
    {
      "cell_type": "code",
      "metadata": {
        "id": "_1dGSIx4JlXs"
      },
      "source": [
        "def backward(target, dh_next, dC_next, C_prev,\n",
        "             z, f, i, C_bar, C, o, h, v, y,\n",
        "             p = parameters):\n",
        "    \n",
        "    assert z.shape == (X_size + H_size, 1)\n",
        "    assert v.shape == (X_size, 1)\n",
        "    assert y.shape == (X_size, 1)\n",
        "    \n",
        "    for param in [dh_next, dC_next, C_prev, f, i, C_bar, C, o, h]:\n",
        "        assert param.shape == (H_size, 1)\n",
        "        \n",
        "    dv = np.copy(y)\n",
        "    dv[target] -= 1\n",
        "\n",
        "    p.W_v.d += np.dot(dv, h.T)\n",
        "    p.b_v.d += dv\n",
        "\n",
        "    dh = np.dot(p.W_v.v.T, dv)        \n",
        "    dh += dh_next\n",
        "    do = dh * tanh(C)\n",
        "    do = dsigmoid(o) * do\n",
        "    p.W_o.d += np.dot(do, z.T)\n",
        "    p.b_o.d += do\n",
        "\n",
        "    dC = np.copy(dC_next)\n",
        "    dC += dh * o * dtanh(tanh(C))\n",
        "    dC_bar = dC * i\n",
        "    dC_bar = dtanh(C_bar) * dC_bar\n",
        "    p.W_C.d += np.dot(dC_bar, z.T)\n",
        "    p.b_C.d += dC_bar\n",
        "\n",
        "    di = dC * C_bar\n",
        "    di = dsigmoid(i) * di\n",
        "    p.W_i.d += np.dot(di, z.T)\n",
        "    p.b_i.d += di\n",
        "\n",
        "    df = dC * C_prev\n",
        "    df = dsigmoid(f) * df\n",
        "    p.W_f.d += np.dot(df, z.T)\n",
        "    p.b_f.d += df\n",
        "\n",
        "    dz = (np.dot(p.W_f.v.T, df)\n",
        "         + np.dot(p.W_i.v.T, di)\n",
        "         + np.dot(p.W_C.v.T, dC_bar)\n",
        "         + np.dot(p.W_o.v.T, do))\n",
        "    dh_prev = dz[:H_size, :]\n",
        "    dC_prev = f * dC\n",
        "    \n",
        "    return dh_prev, dC_prev"
      ],
      "execution_count": null,
      "outputs": []
    },
    {
      "cell_type": "markdown",
      "metadata": {
        "id": "nBlMlCqkJlXv"
      },
      "source": [
        "### Forward Backward Pass"
      ]
    },
    {
      "cell_type": "markdown",
      "metadata": {
        "id": "QZ9MIeurJlXv"
      },
      "source": [
        "Clear gradients before each backward pass"
      ]
    },
    {
      "cell_type": "code",
      "metadata": {
        "id": "ko7GKeFWJlXw"
      },
      "source": [
        "def clear_gradients(params = parameters):\n",
        "    for p in params.all():\n",
        "        p.d.fill(0)"
      ],
      "execution_count": null,
      "outputs": []
    },
    {
      "cell_type": "markdown",
      "metadata": {
        "id": "AM7ORqdSJlXy"
      },
      "source": [
        "Clip gradients to mitigate exploding gradients"
      ]
    },
    {
      "cell_type": "code",
      "metadata": {
        "id": "A0PmByAfJlXz"
      },
      "source": [
        "def clip_gradients(params = parameters):\n",
        "    for p in params.all():\n",
        "        np.clip(p.d, -1, 1, out=p.d)"
      ],
      "execution_count": null,
      "outputs": []
    },
    {
      "cell_type": "markdown",
      "metadata": {
        "id": "PLaWNGEgJlX2"
      },
      "source": [
        "Calculate and store the values in forward pass. Accumulate gradients in backward pass and clip gradients to avoid exploding gradients.\n",
        "\n",
        "* `input`, `target` are list of integers, with character indexes.\n",
        "* `h_prev` is the array of initial `h` at $h_{-1}$ (size H x 1)\n",
        "* `C_prev` is the array of initial `C` at $C_{-1}$ (size H x 1)\n",
        "* *Returns* loss, final $h_T$ and $C_T$"
      ]
    },
    {
      "cell_type": "code",
      "metadata": {
        "id": "fki5EJujJlX2"
      },
      "source": [
        "def forward_backward(inputs, targets, h_prev, C_prev):\n",
        "    global paramters\n",
        "    \n",
        "    # To store the values for each time step\n",
        "    x_s, z_s, f_s, i_s,  = {}, {}, {}, {}\n",
        "    C_bar_s, C_s, o_s, h_s = {}, {}, {}, {}\n",
        "    v_s, y_s =  {}, {}\n",
        "    \n",
        "    # Values at t - 1\n",
        "    h_s[-1] = np.copy(h_prev)\n",
        "    C_s[-1] = np.copy(C_prev)\n",
        "    \n",
        "    loss = 0\n",
        "    # Loop through time steps\n",
        "    assert len(inputs) == T_steps\n",
        "    for t in range(len(inputs)):\n",
        "        x_s[t] = np.zeros((X_size, 1))\n",
        "        x_s[t][inputs[t]] = 1 # Input character\n",
        "        \n",
        "        (z_s[t], f_s[t], i_s[t],\n",
        "        C_bar_s[t], C_s[t], o_s[t], h_s[t],\n",
        "        v_s[t], y_s[t]) = \\\n",
        "            forward(x_s[t], h_s[t - 1], C_s[t - 1]) # Forward pass\n",
        "            \n",
        "        loss += -np.log(y_s[t][targets[t], 0]) # Loss for at t\n",
        "        \n",
        "    clear_gradients()\n",
        "\n",
        "    dh_next = np.zeros_like(h_s[0]) #dh from the next character\n",
        "    dC_next = np.zeros_like(C_s[0]) #dh from the next character\n",
        "\n",
        "    for t in reversed(range(len(inputs))):\n",
        "        # Backward pass\n",
        "        dh_next, dC_next = \\\n",
        "            backward(target = targets[t], dh_next = dh_next,\n",
        "                     dC_next = dC_next, C_prev = C_s[t-1],\n",
        "                     z = z_s[t], f = f_s[t], i = i_s[t], C_bar = C_bar_s[t],\n",
        "                     C = C_s[t], o = o_s[t], h = h_s[t], v = v_s[t],\n",
        "                     y = y_s[t])\n",
        "\n",
        "    clip_gradients()\n",
        "        \n",
        "    return loss, h_s[len(inputs) - 1], C_s[len(inputs) - 1]"
      ],
      "execution_count": null,
      "outputs": []
    },
    {
      "cell_type": "markdown",
      "metadata": {
        "id": "NZ49YQcoJlX6"
      },
      "source": [
        "### Sample the next character"
      ]
    },
    {
      "cell_type": "code",
      "metadata": {
        "id": "mcw6BkyPJlX6"
      },
      "source": [
        "def sample(h_prev, C_prev, first_char_idx, sentence_length):\n",
        "    x = np.zeros((X_size, 1))\n",
        "    x[first_char_idx] = 1\n",
        "\n",
        "    h = h_prev\n",
        "    C = C_prev\n",
        "\n",
        "    indexes = []\n",
        "    \n",
        "    for t in range(sentence_length):\n",
        "        _, _, _, _, C, _, h, _, p = forward(x, h, C)\n",
        "        idx = np.random.choice(range(X_size), p=p.ravel())\n",
        "        x = np.zeros((X_size, 1))\n",
        "        x[idx] = 1\n",
        "        indexes.append(idx)\n",
        "\n",
        "    return indexes"
      ],
      "execution_count": null,
      "outputs": []
    },
    {
      "cell_type": "markdown",
      "metadata": {
        "id": "F3BG8VeQJlX9"
      },
      "source": [
        "## Training (Adagrad)"
      ]
    },
    {
      "cell_type": "markdown",
      "metadata": {
        "id": "tMeNVxZzJlX9"
      },
      "source": [
        "Update the graph and display a sample output"
      ]
    },
    {
      "cell_type": "code",
      "metadata": {
        "id": "HB6nq8g0JlX-"
      },
      "source": [
        "def update_status(inputs, h_prev, C_prev):\n",
        "    #initialized later\n",
        "    global plot_iter, plot_loss\n",
        "    global smooth_loss\n",
        "    \n",
        "    # Get predictions for 200 letters with current model\n",
        "\n",
        "    sample_idx = sample(h_prev, C_prev, inputs[0], 200)\n",
        "    txt = ''.join(idx_to_char[idx] for idx in sample_idx)\n",
        "\n",
        "    # Clear and plot\n",
        "    plt.plot(plot_iter, plot_loss)\n",
        "    display.clear_output(wait=True)\n",
        "    plt.show()\n",
        "\n",
        "    #Print prediction and loss\n",
        "    print(\"----\\n %s \\n----\" % (txt, ))\n",
        "    print(\"iter %d, loss %f\" % (iteration, smooth_loss))"
      ],
      "execution_count": null,
      "outputs": []
    },
    {
      "cell_type": "markdown",
      "metadata": {
        "id": "rD2OrnGuJlYB"
      },
      "source": [
        "Update parameters\n",
        "\n",
        "\\begin{align}\n",
        "\\theta_i &= \\theta_i - \\eta\\frac{d\\theta_i}{\\sum dw_{\\tau}^2} \\\\\n",
        "d\\theta_i &= \\frac{\\partial L}{\\partial \\theta_i}\n",
        "\\end{align}"
      ]
    },
    {
      "cell_type": "code",
      "metadata": {
        "id": "v6rs1KnbJlYB"
      },
      "source": [
        "def update_paramters(params = parameters):\n",
        "    for p in params.all():\n",
        "        p.m += p.d * p.d # Calculate sum of gradients\n",
        "        #print(learning_rate * dparam)\n",
        "        p.v += -(learning_rate * p.d / np.sqrt(p.m + 1e-8))"
      ],
      "execution_count": null,
      "outputs": []
    },
    {
      "cell_type": "markdown",
      "metadata": {
        "id": "11s3QXHYJlYD"
      },
      "source": [
        "To delay the keyboard interrupt to prevent the training \n",
        "from stopping in the middle of an iteration "
      ]
    },
    {
      "cell_type": "code",
      "metadata": {
        "id": "AD2zRQORJlYE"
      },
      "source": [
        "import signal\n",
        "\n",
        "class DelayedKeyboardInterrupt(object):\n",
        "    def __enter__(self):\n",
        "        self.signal_received = False\n",
        "        self.old_handler = signal.signal(signal.SIGINT, self.handler)\n",
        "\n",
        "    def handler(self, sig, frame):\n",
        "        self.signal_received = (sig, frame)\n",
        "        print('SIGINT received. Delaying KeyboardInterrupt.')\n",
        "\n",
        "    def __exit__(self, type, value, traceback):\n",
        "        signal.signal(signal.SIGINT, self.old_handler)\n",
        "        if self.signal_received:\n",
        "            self.old_handler(*self.signal_received)"
      ],
      "execution_count": null,
      "outputs": []
    },
    {
      "cell_type": "code",
      "metadata": {
        "id": "92wI-hjiJlYG"
      },
      "source": [
        "# Exponential average of loss\n",
        "# Initialize to a error of a random model\n",
        "smooth_loss = -np.log(1.0 / X_size) * T_steps\n",
        "\n",
        "iteration, pointer = 0, 0\n",
        "\n",
        "# For the graph\n",
        "plot_iter = np.zeros((0))\n",
        "plot_loss = np.zeros((0))"
      ],
      "execution_count": null,
      "outputs": []
    },
    {
      "cell_type": "markdown",
      "metadata": {
        "id": "VkhoWkV5JlYI"
      },
      "source": [
        "Training loop"
      ]
    },
    {
      "cell_type": "code",
      "metadata": {
        "id": "04ze9MlTJlYJ",
        "outputId": "bcbc862a-bfc9-4967-fdfe-c4acd3d43965",
        "colab": {
          "base_uri": "https://localhost:8080/",
          "height": 371
        }
      },
      "source": [
        "while True:\n",
        "    try:\n",
        "        with DelayedKeyboardInterrupt():\n",
        "            # Reset\n",
        "            if pointer + T_steps >= len(data) or iteration == 0:\n",
        "                g_h_prev = np.zeros((H_size, 1))\n",
        "                g_C_prev = np.zeros((H_size, 1))\n",
        "                pointer = 0\n",
        "\n",
        "\n",
        "            inputs = ([char_to_idx[ch] \n",
        "                       for ch in data[pointer: pointer + T_steps]])\n",
        "            targets = ([char_to_idx[ch] \n",
        "                        for ch in data[pointer + 1: pointer + T_steps + 1]])\n",
        "\n",
        "            loss, g_h_prev, g_C_prev = \\\n",
        "                forward_backward(inputs, targets, g_h_prev, g_C_prev)\n",
        "            smooth_loss = smooth_loss * 0.999 + loss * 0.001\n",
        "\n",
        "            # Print every hundred steps\n",
        "            if iteration % 100 == 0:\n",
        "                update_status(inputs, g_h_prev, g_C_prev)\n",
        "\n",
        "            update_paramters()\n",
        "\n",
        "            plot_iter = np.append(plot_iter, [iteration])\n",
        "            plot_loss = np.append(plot_loss, [loss])\n",
        "\n",
        "            pointer += T_steps\n",
        "            iteration += 1\n",
        "    except KeyboardInterrupt:\n",
        "        update_status(inputs, g_h_prev, g_C_prev)\n",
        "        break"
      ],
      "execution_count": null,
      "outputs": [
        {
          "output_type": "display_data",
          "data": {
            "image/png": "[encoded data removed]",
            "text/plain": [
              "<Figure size 432x288 with 1 Axes>"
            ]
          },
          "metadata": {
            "tags": []
          }
        },
        {
          "output_type": "stream",
          "text": [
            "----\n",
            " rld 19e coatola, whe Hesepyhes, cor\n",
            "?o alr infese thand difome’cocfchet una . nk yorsa. Here the holemy enf cru thine tya, sacawod,y onge.\n",
            " hery in Corcsaker corminisivildy ingeredhes thong copl nouvb \n",
            "----\n",
            "iter 310, loss 154.093161\n"
          ],
          "name": "stdout"
        }
      ]
    },
    {
      "cell_type": "markdown",
      "metadata": {
        "id": "yuL538gdJlYL"
      },
      "source": [
        "### Gradient Check\n",
        "\n",
        "Approximate the numerical gradients by changing parameters and running the model. Check if the approximated gradients are equal to the computed analytical gradients (by backpropagation).\n",
        "\n",
        "Try this on `num_checks` individual paramters picked randomly for each weight matrix and bias vector."
      ]
    },
    {
      "cell_type": "code",
      "metadata": {
        "id": "xtXmaajKJlYM"
      },
      "source": [
        "from random import uniform"
      ],
      "execution_count": null,
      "outputs": []
    },
    {
      "cell_type": "markdown",
      "metadata": {
        "id": "Y0B4WFv0JlYO"
      },
      "source": [
        "Calculate numerical gradient"
      ]
    },
    {
      "cell_type": "code",
      "metadata": {
        "id": "TxibCzCLJlYO"
      },
      "source": [
        "def calc_numerical_gradient(param, idx, delta, inputs, target, h_prev, C_prev):\n",
        "    old_val = param.v.flat[idx]\n",
        "    \n",
        "    # evaluate loss at [x + delta] and [x - delta]\n",
        "    param.v.flat[idx] = old_val + delta\n",
        "    loss_plus_delta, _, _ = forward_backward(inputs, targets,\n",
        "                                             h_prev, C_prev)\n",
        "    param.v.flat[idx] = old_val - delta\n",
        "    loss_mins_delta, _, _ = forward_backward(inputs, targets, \n",
        "                                             h_prev, C_prev)\n",
        "    \n",
        "    param.v.flat[idx] = old_val #reset\n",
        "\n",
        "    grad_numerical = (loss_plus_delta - loss_mins_delta) / (2 * delta)\n",
        "    # Clip numerical error because analytical gradient is clipped\n",
        "    [grad_numerical] = np.clip([grad_numerical], -1, 1) \n",
        "    \n",
        "    return grad_numerical"
      ],
      "execution_count": null,
      "outputs": []
    },
    {
      "cell_type": "markdown",
      "metadata": {
        "id": "r8wHjW1jJlYR"
      },
      "source": [
        "Check gradient of each paramter matrix/vector at `num_checks` individual values"
      ]
    },
    {
      "cell_type": "code",
      "metadata": {
        "id": "V1pAvKnAJlYS"
      },
      "source": [
        "def gradient_check(num_checks, delta, inputs, target, h_prev, C_prev):\n",
        "    global parameters\n",
        "    \n",
        "    # To calculate computed gradients\n",
        "    _, _, _ =  forward_backward(inputs, targets, h_prev, C_prev)\n",
        "    \n",
        "    \n",
        "    for param in parameters.all():\n",
        "        #Make a copy because this will get modified\n",
        "        d_copy = np.copy(param.d)\n",
        "\n",
        "        # Test num_checks times\n",
        "        for i in range(num_checks):\n",
        "            # Pick a random index\n",
        "            rnd_idx = int(uniform(0, param.v.size))\n",
        "            \n",
        "            grad_numerical = calc_numerical_gradient(param,\n",
        "                                                     rnd_idx,\n",
        "                                                     delta,\n",
        "                                                     inputs,\n",
        "                                                     target,\n",
        "                                                     h_prev, C_prev)\n",
        "            grad_analytical = d_copy.flat[rnd_idx]\n",
        "\n",
        "            err_sum = abs(grad_numerical + grad_analytical) + 1e-09\n",
        "            rel_error = abs(grad_analytical - grad_numerical) / err_sum\n",
        "            \n",
        "            # If relative error is greater than 1e-06\n",
        "            if rel_error > 1e-06:\n",
        "                print('%s (%e, %e) => %e'\n",
        "                      % (param.name, grad_numerical, grad_analytical, rel_error))"
      ],
      "execution_count": null,
      "outputs": []
    },
    {
      "cell_type": "code",
      "metadata": {
        "scrolled": false,
        "id": "aSw0iDFrJlYV",
        "outputId": "0166dc33-7f82-4966-a30a-81dccf2e21d0",
        "colab": {
          "base_uri": "https://localhost:8080/",
          "height": 508
        }
      },
      "source": [
        "gradient_check(10, 1e-5, inputs, targets, g_h_prev, g_C_prev)"
      ],
      "execution_count": null,
      "outputs": [
        {
          "output_type": "stream",
          "text": [
            "W_f (-1.208988e-05, -1.209118e-05) => 5.343509e-05\n",
            "W_f (4.853007e-06, 4.852757e-06) => 2.572533e-05\n",
            "W_f (9.209842e-05, 9.209955e-05) => 6.124582e-06\n",
            "W_f (-1.348610e-06, -1.348691e-06) => 3.005958e-05\n",
            "W_f (3.129259e-04, 3.129252e-04) => 1.074261e-06\n",
            "W_f (5.471179e-07, 5.475204e-07) => 3.674026e-04\n",
            "W_i (-5.409362e-06, -5.410217e-06) => 7.898553e-05\n",
            "W_i (8.868994e-06, 8.868956e-06) => 2.151003e-06\n",
            "W_i (2.248292e-04, 2.248300e-04) => 1.732387e-06\n",
            "W_i (7.403003e-05, 7.402941e-05) => 4.180942e-06\n",
            "W_C (-8.065157e-05, -8.065066e-05) => 5.693871e-06\n",
            "W_o (-2.047074e-06, -2.047184e-06) => 2.692733e-05\n",
            "W_v (-6.548362e-06, -6.547997e-06) => 2.788195e-05\n",
            "W_v (-1.100631e-06, -1.100822e-06) => 8.695271e-05\n",
            "W_v (-8.412826e-07, -8.409354e-07) => 2.062425e-04\n",
            "W_v (9.080736e-07, 9.074695e-07) => 3.325817e-04\n",
            "W_v (1.404814e-05, 1.404835e-05) => 7.604074e-06\n",
            "W_v (1.724487e-06, 1.724347e-06) => 4.062510e-05\n",
            "b_f (2.074707e-04, 2.074689e-04) => 4.230728e-06\n",
            "b_f (-1.285301e-05, -1.285210e-05) => 3.532601e-05\n",
            "b_f (-2.616147e-05, -2.616083e-05) => 1.230837e-05\n",
            "b_C (-5.878064e-04, -5.877075e-04) => 8.415461e-05\n",
            "b_C (-1.672656e-01, -1.672662e-01) => 1.868790e-06\n",
            "b_C (9.727998e-04, 9.727951e-04) => 2.420814e-06\n",
            "b_o (-1.124711e-03, -1.124715e-03) => 1.671310e-06\n",
            "b_o (-1.621325e-02, -1.621328e-02) => 1.142338e-06\n",
            "b_o (-1.672581e-02, -1.672594e-02) => 4.055322e-06\n"
          ],
          "name": "stdout"
        }
      ]
    }
  ]
}